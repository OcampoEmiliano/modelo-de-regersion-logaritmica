{
 "cells": [
  {
   "cell_type": "markdown",
   "id": "880b87d4",
   "metadata": {},
   "source": [
    "# Modelo de Regresion Logaritmica\n",
    "\n",
    " Aplicación de Regresión Logística en Noticias: Detección de Fake News\n",
    "Un caso real donde se puede aplicar Regresión Logística es en la detección de noticias falsas. Con el auge de la información digital, los medios de comunicación y plataformas sociales enfrentan el desafío de identificar contenido engañoso o manipulado. La regresión logística es una técnica efectiva para clasificar noticias como verdaderas (1) o falsas (0) basándose en características textuales y metadatos.\n",
    "\n",
    " Fundamentación\n",
    "La regresión logística es útil porque:\n",
    "- Clasifica noticias en dos categorías (falsa o verdadera).\n",
    "- Analiza patrones en el texto como el uso de palabras sensacionalistas o fuentes poco confiables.\n",
    "- Puede entrenarse con datos históricos de noticias verificadas y falsas para mejorar su precisión.\n",
    "\n",
    " Caso real\n",
    "Investigaciones han demostrado que modelos de Machine Learning, incluyendo regresión logística, han sido utilizados para detectar noticias falsas en plataformas como Twitter y Facebook. Estos modelos analizan el contenido textual y la estructura de las noticias para predecir su veracidad.\n",
    " \n"
   ]
  },
  {
   "cell_type": "code",
   "execution_count": null,
   "id": "0b25f079",
   "metadata": {},
   "outputs": [],
   "source": [
    "import pandas as pd\n",
    "import matplotlib.pyplot as  plt"
   ]
  },
  {
   "cell_type": "markdown",
   "id": "b52fd984",
   "metadata": {},
   "source": [
    "## Leer los archivos"
   ]
  },
  {
   "cell_type": "code",
   "execution_count": null,
   "id": "66fff7bb",
   "metadata": {},
   "outputs": [],
   "source": [
    "data_real = pd.read_csv('true.csv')\n",
    "data_fake = pd.read_csv('fake.csv')\n",
    "data_fake.head()"
   ]
  },
  {
   "cell_type": "markdown",
   "id": "93637a71",
   "metadata": {},
   "source": [
    "### Agregar el \"label\"\n",
    "-0 para noticias falsas\n",
    "\n",
    "-1 para noticias verdaderas"
   ]
  },
  {
   "cell_type": "code",
   "execution_count": null,
   "id": "a83dc78e",
   "metadata": {},
   "outputs": [],
   "source": [
    "data_fake[\"label\"] = 0 \n",
    "data_real[\"label\"] = 1\n",
    "print(data_fake.head())\n",
    "print(data_real.head())"
   ]
  },
  {
   "cell_type": "markdown",
   "id": "465d88bc",
   "metadata": {},
   "source": [
    "### Preparar los datos\n",
    "\n",
    "-se unen los datos y se mezclan aleatoriamente\n",
    "\n",
    "-se preparan los datos que se usarán"
   ]
  },
  {
   "cell_type": "code",
   "execution_count": null,
   "id": "a373b857",
   "metadata": {},
   "outputs": [],
   "source": [
    "data = pd.concat([data_real , data_fake] , axis=0)\n",
    "data = data.sample(frac=1).reset_index(drop = True)\n",
    "data"
   ]
  },
  {
   "cell_type": "code",
   "execution_count": null,
   "id": "5ff5a360",
   "metadata": {},
   "outputs": [],
   "source": [
    "data['text'] = data.title + \" \" + data.text\n",
    "data = data[['text' , 'label']]\n",
    "data.head()"
   ]
  },
  {
   "cell_type": "markdown",
   "id": "b0bd3bf1",
   "metadata": {},
   "source": [
    "## limpieza del texto\n",
    "- se limpian los signos de puntuacion"
   ]
  },
  {
   "cell_type": "code",
   "execution_count": null,
   "id": "572c3e76",
   "metadata": {},
   "outputs": [],
   "source": [
    "def clean_text(text):\n",
    "    import string\n",
    "\n",
    "    text = text.lower()  # Convertir texto a minúsculas\n",
    "    text = \"\".join([ch for ch in text if ch not in string.punctuation])  # Eliminar signos de puntuación\n",
    "    words = text.split()\n",
    "    return \" \".join(words)\n",
    "\n"
   ]
  },
  {
   "cell_type": "markdown",
   "id": "7990c006",
   "metadata": {},
   "source": [
    " se vectorizan los datos"
   ]
  },
  {
   "cell_type": "code",
   "execution_count": null,
   "id": "400d16a1",
   "metadata": {},
   "outputs": [],
   "source": [
    "from sklearn.feature_extraction.text import TfidfVectorizer\n",
    "\n",
    "vectorizer = TfidfVectorizer(max_features=5000, stop_words='english')\n",
    "\n",
    "x = vectorizer.fit_transform(data[\"text\"].apply(clean_text))\n",
    "y= data[\"label\"]"
   ]
  },
  {
   "cell_type": "markdown",
   "id": "d8c88645",
   "metadata": {},
   "source": [
    "## entrenar el modelo"
   ]
  },
  {
   "cell_type": "code",
   "execution_count": null,
   "id": "a3ac61c8",
   "metadata": {},
   "outputs": [],
   "source": [
    "from sklearn.model_selection import train_test_split\n",
    "x_train , x_test , y_train , y_test = train_test_split(x , y , test_size=0.2, train_size=0.8)"
   ]
  },
  {
   "cell_type": "code",
   "execution_count": null,
   "id": "f80eeee9",
   "metadata": {},
   "outputs": [],
   "source": [
    "from sklearn.linear_model import LogisticRegression\n",
    "model = LogisticRegression()\n",
    "model.fit(x_train,y_train)"
   ]
  },
  {
   "cell_type": "markdown",
   "id": "8f380166",
   "metadata": {},
   "source": [
    "## pruebas y mediciones de presición"
   ]
  },
  {
   "cell_type": "code",
   "execution_count": null,
   "id": "d7f1cd43",
   "metadata": {},
   "outputs": [],
   "source": [
    "model.score(x_train,y_train)"
   ]
  },
  {
   "cell_type": "code",
   "execution_count": null,
   "id": "9984d685",
   "metadata": {},
   "outputs": [],
   "source": [
    "model.score(x_test,y_test)"
   ]
  },
  {
   "cell_type": "code",
   "execution_count": null,
   "id": "f6b0cba8",
   "metadata": {},
   "outputs": [],
   "source": [
    "y_predictions = model.predict(x_test)\n",
    "y_predictions"
   ]
  },
  {
   "cell_type": "code",
   "execution_count": null,
   "id": "08dd3851",
   "metadata": {},
   "outputs": [],
   "source": [
    "from sklearn.metrics import accuracy_score , classification_report\n",
    "\n",
    "print(\"accuracy is: \" , accuracy_score(y_test,y_predictions))\n",
    "\n",
    "report = classification_report(y_test , y_predictions , output_dict=True)\n",
    "Report = pd.DataFrame(report)"
   ]
  },
  {
   "cell_type": "code",
   "execution_count": null,
   "id": "3e2906b9",
   "metadata": {},
   "outputs": [],
   "source": [
    "import matplotlib.pyplot as plt\n",
    "\n",
    "# Contar cuántas noticias verdaderas y falsas hay en y_test\n",
    "counts = y_test.value_counts()\n",
    "\n",
    "plt.bar(counts.index, counts.values, alpha=0.7, color=['blue', 'red'])\n",
    "plt.xlabel(\"Clase de noticias (0 = Falsa, 1 = Verdadera)\")\n",
    "plt.ylabel(\"Cantidad de noticias\")\n",
    "plt.title(\"Distribución de Noticias en el Conjunto de Prueba\")\n",
    "plt.xticks([0, 1], [\"Falsa\", \"Verdadera\"])\n",
    "plt.show()"
   ]
  }
 ],
 "metadata": {
  "kernelspec": {
   "display_name": "env",
   "language": "python",
   "name": "python3"
  },
  "language_info": {
   "codemirror_mode": {
    "name": "ipython",
    "version": 3
   },
   "file_extension": ".py",
   "mimetype": "text/x-python",
   "name": "python",
   "nbconvert_exporter": "python",
   "pygments_lexer": "ipython3",
   "version": "3.13.2"
  }
 },
 "nbformat": 4,
 "nbformat_minor": 5
}
